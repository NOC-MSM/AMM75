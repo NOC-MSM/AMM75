{
 "cells": [
  {
   "cell_type": "code",
   "execution_count": 171,
   "id": "dd45784d-ddbb-45c9-9fd5-aa7ce43fe057",
   "metadata": {},
   "outputs": [],
   "source": [
    "import xarray as xr\n",
    "import numpy as np\n",
    "import matplotlib.pyplot as plt"
   ]
  },
  {
   "cell_type": "code",
   "execution_count": 172,
   "id": "e10bb00c-efdc-403d-bde4-245e56f4e8be",
   "metadata": {},
   "outputs": [],
   "source": [
    "a = 6371229 # radius of the earth in [m]\n",
    "def add_e1_e2(ds):\n",
    "    # There is some averging going on here. Strictly the NEMO doc does not suggest doing this for\n",
    "    # the scale factors but it seems to have been done in creating the AMM15 grid. It might becessary\n",
    "    # to account for precision errors. Also the AMM15 claculation of e1u is a bit suspect because it\n",
    "    # takes it as equal to e1f and e1v but it shold be equal to e1t\n",
    "    part1 = np.square( ( np.deg2rad(ds.glamu[:,1:]).values - np.deg2rad(ds.glamu[:,:-1]).values ) * np.cos( np.deg2rad( ds.gphit[:,1:] ) ) )\n",
    "    part2 = np.square( ( np.deg2rad(ds.gphiu[:,1:]).values - np.deg2rad(ds.gphiu[:,:-1]).values ) )\n",
    "    ds.e1t[:,1:] = a * np.sqrt( part1 + part2 ).mean(\"lon\").broadcast_like(ds.e1t[:,1:]).values\n",
    "    ds.e1t[:,0] = np.nan\n",
    "\n",
    "    part1 = np.square( ( np.deg2rad(ds.glamv[1:,:]).values - np.deg2rad(ds.glamv[:-1,:]).values ) * np.cos( np.deg2rad( ds.gphit[1:,:] ) ) )\n",
    "    part2 = np.square( ( np.deg2rad(ds.gphiv[1:,:]).values - np.deg2rad(ds.gphiv[:-1,:]).values ) )\n",
    "    ds.e2t[:] = ( a * np.sqrt( part1 + part2 ) ).mean()\n",
    "    ds.e2t[0,:] = np.nan\n",
    "       \n",
    "    part1 = np.square( ( np.deg2rad(ds.glamv[:,1:]).values - np.deg2rad(ds.glamv[:,:-1]).values ) * np.cos( np.deg2rad( ds.gphif[:,:-1] ) ) )\n",
    "    part2 = np.square( ( np.deg2rad(ds.gphiv[:,1:]).values - np.deg2rad(ds.gphiv[:,:-1]).values ) )\n",
    "    ds.e1f[:,:-1] = a * np.sqrt( part1 + part2 ).mean(\"lon\").broadcast_like(ds.e1f[:,:-1]).values\n",
    "    ds.e1f[:,-1] = np.nan\n",
    "\n",
    "    part1 = np.square( ( np.deg2rad(ds.glamu[1:,:]).values - np.deg2rad(ds.glamu[:-1,:]).values ) * np.cos( np.deg2rad( ds.gphif[:-1,:] ) ) )\n",
    "    part2 = np.square( ( np.deg2rad(ds.gphiu[1:,:]).values - np.deg2rad(ds.gphiu[:-1,:]).values ) )\n",
    "    ds.e2f[:] = ( a * np.sqrt( part1 + part2 ) ).mean().values\n",
    "    ds.e2f[-1,:] = np.nan\n",
    "\n",
    "    part1 = np.square( ( np.deg2rad(ds.glamt[:,1:]).values - np.deg2rad(ds.glamt[:,:-1]).values ) * np.cos( np.deg2rad( ds.gphiu[:,:-1] ) ) )\n",
    "    part2 = np.square( ( np.deg2rad(ds.gphit[:,1:]).values - np.deg2rad(ds.gphit[:,:-1]).values ) )\n",
    "    ds.e1u[:,:-1] = a * np.sqrt( part1 + part2 ).mean(\"lon\").broadcast_like(ds.e1u[:,:-1]).values\n",
    "    ds.e1u[:,-1] = np.nan\n",
    "\n",
    "    part1 = np.square( ( np.deg2rad(ds.glamf[1:,:]).values - np.deg2rad(ds.glamf[:-1,:]).values ) * np.cos( np.deg2rad( ds.gphiu[1:,:] ) ) )\n",
    "    part2 = np.square( ( np.deg2rad(ds.gphif[1:,:]).values - np.deg2rad(ds.gphif[:-1,:]).values ) )\n",
    "    ds.e2u[:] = ( a * np.sqrt( part1 + part2 ) ).mean().values\n",
    "    ds.e2u[0,:] = np.nan \n",
    "\n",
    "    part1 = np.square( ( np.deg2rad(ds.glamf[:,1:]).values - np.deg2rad(ds.glamf[:,:-1]).values ) * np.cos( np.deg2rad( ds.gphiv[:,1:]  ) ) )\n",
    "    part2 = np.square( ( np.deg2rad(ds.gphif[:,1:]).values - np.deg2rad(ds.gphif[:,:-1]).values ) )\n",
    "    ds.e1v[:,1:] = a * np.sqrt( part1 + part2 ).mean(\"lon\").broadcast_like(ds.e1v[:,1:]).values\n",
    "    ds.e1v[:,0] = np.nan\n",
    "\n",
    "    part1 = np.square( ( np.deg2rad(ds.glamt[1:,:]).values - np.deg2rad(ds.glamt[:-1,:]).values ) * np.cos( np.deg2rad( ds.gphiv[:-1,:]  ) ) )\n",
    "    part2 = np.square( ( np.deg2rad(ds.gphit[1:,:]).values - np.deg2rad(ds.gphit[:-1,:]).values ) )\n",
    "    ds.e2v[:] = ( a * np.sqrt( part1 + part2 ) ).mean().values\n",
    "    ds.e2v[-1,:] = np.nan"
   ]
  },
  {
   "cell_type": "code",
   "execution_count": 173,
   "id": "113e511b-6f7a-4b98-ac15-eec84a121884",
   "metadata": {},
   "outputs": [],
   "source": [
    "# Load the AMM15 coordinates file\n",
    "amm15coord_ds = xr.open_dataset( \"/work/n01/n01/shared/CO_AMM15/P1_INPUTS/COORDINATES/amm15.coordinates.nc\" )\n",
    "\n",
    "# Coarsen the grid by taking every 5th grid point. This gives roughly 7.5 km resolution\n",
    "# The northern and eastern most coordinates are the same in AMM15 and AMM75\n",
    "lat_inds = np.arange(4,1345,5)\n",
    "lon_inds = np.arange(2,1458,5)\n",
    "amm75coord_ds = amm15coord_ds.isel(lat=lat_inds, lon=lon_inds)"
   ]
  },
  {
   "cell_type": "code",
   "execution_count": 174,
   "id": "05fe2763-aad3-4bb0-93b8-567a20faef58",
   "metadata": {},
   "outputs": [],
   "source": [
    "# Add the horizontal scale factors e1 and e2\n",
    "add_e1_e2(amm75coord_ds)\n",
    "\n",
    "# Remove the nans around the edge which we couldn't calculate becuase we couldn't compute\n",
    "# the derivate at the edge\n",
    "lat_inds = np.arange(1,268,1)\n",
    "lon_inds = np.arange(1,291,1)\n",
    "amm75coord_ds = amm75coord_ds.isel(lat=lat_inds, lon=lon_inds).load()\n",
    "amm75coord_ds.attrs[\"Description\"] = \"Anthoyn Wise, NOC, 26/03.24, created by coarsening the AMM15 coordinates using a stride of five to give approximately 7.5 km resolution\""
   ]
  },
  {
   "cell_type": "code",
   "execution_count": 170,
   "id": "202020de-a561-4300-a4ab-84cb2474fdf0",
   "metadata": {},
   "outputs": [],
   "source": [
    "# Save to disc\n",
    "amm75coord_ds.to_netcdf( \"/work/n01/n01/anwise/PROJECTS/PISCES/amm75_coordinates.nc\" )"
   ]
  }
 ],
 "metadata": {
  "kernelspec": {
   "display_name": "Python 3 (ipykernel)",
   "language": "python",
   "name": "python3"
  },
  "language_info": {
   "codemirror_mode": {
    "name": "ipython",
    "version": 3
   },
   "file_extension": ".py",
   "mimetype": "text/x-python",
   "name": "python",
   "nbconvert_exporter": "python",
   "pygments_lexer": "ipython3",
   "version": "3.10.0"
  }
 },
 "nbformat": 4,
 "nbformat_minor": 5
}
