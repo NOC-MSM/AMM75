{
 "cells": [
  {
   "cell_type": "code",
   "execution_count": 11,
   "id": "12e57bc9-7daa-4ff0-b769-c06d7d76a72a",
   "metadata": {},
   "outputs": [],
   "source": [
    "import os"
   ]
  },
  {
   "cell_type": "code",
   "execution_count": 12,
   "id": "c975654d-730a-4ed4-882b-6d1c64f1b79f",
   "metadata": {},
   "outputs": [],
   "source": [
    "PATH = \"./INPUTS/TIDES/BALTIC/\"\n",
    "for filename in os.listdir(PATH):\n",
    "    if filename.endswith(\"grd_Z.nc\"):\n",
    "        #print(filename[:-8] + 'grid_T.nc')\n",
    "        os.rename(PATH+filename, PATH+filename[:-8] + 'grid_T.nc')\n",
    "    elif filename.endswith(\"grd_U.nc\"):\n",
    "        #print(filename[:-8] + 'grid_U.nc')\n",
    "        os.rename(PATH+filename, PATH+filename[:-8] + 'grid_U.nc')\n",
    "    elif filename.endswith(\"grd_V.nc\"):\n",
    "        #print(filename[:-8] + 'grid_V.nc')\n",
    "        os.rename(PATH+filename, PATH+filename[:-8] + 'grid_V.nc')"
   ]
  },
  {
   "cell_type": "code",
   "execution_count": null,
   "id": "e57aaa7d-5438-4730-82d4-9771c4b065a7",
   "metadata": {},
   "outputs": [],
   "source": []
  }
 ],
 "metadata": {
  "kernelspec": {
   "display_name": "default_env",
   "language": "python",
   "name": "default_env"
  },
  "language_info": {
   "codemirror_mode": {
    "name": "ipython",
    "version": 3
   },
   "file_extension": ".py",
   "mimetype": "text/x-python",
   "name": "python",
   "nbconvert_exporter": "python",
   "pygments_lexer": "ipython3",
   "version": "3.12.2"
  }
 },
 "nbformat": 4,
 "nbformat_minor": 5
}
